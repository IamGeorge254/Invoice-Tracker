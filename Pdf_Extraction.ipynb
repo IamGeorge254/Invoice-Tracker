{
 "cells": [
  {
   "cell_type": "markdown",
   "id": "fc3e7d06-432a-44f1-a24f-cd155f0f1f2d",
   "metadata": {},
   "source": [
    "## Installing & Importing our Prequisites"
   ]
  },
  {
   "cell_type": "code",
   "execution_count": 1,
   "id": "e413b4e0-840b-49ef-b9a2-a99cffd54804",
   "metadata": {
    "scrolled": true
   },
   "outputs": [
    {
     "name": "stdout",
     "output_type": "stream",
     "text": [
      "Defaulting to user installation because normal site-packages is not writeable\n",
      "Requirement already satisfied: pdfplumber in c:\\users\\user\\appdata\\roaming\\python\\python313\\site-packages (0.11.7)\n",
      "Requirement already satisfied: pdfminer.six==20250506 in c:\\users\\user\\appdata\\roaming\\python\\python313\\site-packages (from pdfplumber) (20250506)\n",
      "Requirement already satisfied: Pillow>=9.1 in c:\\programdata\\anaconda3\\lib\\site-packages (from pdfplumber) (11.1.0)\n",
      "Requirement already satisfied: pypdfium2>=4.18.0 in c:\\users\\user\\appdata\\roaming\\python\\python313\\site-packages (from pdfplumber) (4.30.0)\n",
      "Requirement already satisfied: charset-normalizer>=2.0.0 in c:\\programdata\\anaconda3\\lib\\site-packages (from pdfminer.six==20250506->pdfplumber) (3.3.2)\n",
      "Requirement already satisfied: cryptography>=36.0.0 in c:\\programdata\\anaconda3\\lib\\site-packages (from pdfminer.six==20250506->pdfplumber) (44.0.1)\n",
      "Requirement already satisfied: cffi>=1.12 in c:\\programdata\\anaconda3\\lib\\site-packages (from cryptography>=36.0.0->pdfminer.six==20250506->pdfplumber) (1.17.1)\n",
      "Requirement already satisfied: pycparser in c:\\programdata\\anaconda3\\lib\\site-packages (from cffi>=1.12->cryptography>=36.0.0->pdfminer.six==20250506->pdfplumber) (2.21)\n",
      "Note: you may need to restart the kernel to use updated packages.\n"
     ]
    }
   ],
   "source": [
    "# Installing my prequisites\n",
    "%pip install pdfplumber"
   ]
  },
  {
   "cell_type": "code",
   "execution_count": 2,
   "id": "601ec6a1-a71d-4195-b75e-0da0a596261e",
   "metadata": {},
   "outputs": [],
   "source": [
    "# Importing Libraries\n",
    "import pdfplumber # Assist in reading pdf files\n",
    "import os # Assist in navigating to folders & files\n",
    "import re # Helps in searching and extracting specific pieces of text\n",
    "import pandas as pd"
   ]
  },
  {
   "cell_type": "markdown",
   "id": "1472f966-18d3-42a0-b0c5-661885e7f198",
   "metadata": {},
   "source": [
    "## Loading our Data"
   ]
  },
  {
   "cell_type": "code",
   "execution_count": 3,
   "id": "c0f99676-d821-4f00-9e3f-db92905a308f",
   "metadata": {},
   "outputs": [
    {
     "name": "stdout",
     "output_type": "stream",
     "text": [
      "PDF files found: ['INV-0487.pdf', 'INV-0488.pdf', 'INV-0489.pdf', 'INV-0490.pdf', 'INV-0491.pdf', 'INV-0492.pdf', 'INV-0493.pdf', 'INV-0494.pdf', 'INV-0495.pdf', 'INV-0496.pdf', 'INV-0497.pdf', 'INV-0498.pdf', 'INV-0499.pdf', 'INV-0500.pdf', 'INV-0501.pdf', 'INV-0502.pdf', 'INV-0503.pdf', 'INV-0504.pdf', 'INV-0505.pdf', 'INV-0506.pdf', 'INV-0507.pdf', 'INV-0508.pdf', 'INV-0509.pdf', 'INV-0510.pdf', 'INV-0511.pdf', 'INV-0512.pdf', 'INV-0513.pdf', 'INV-0514.pdf', 'INV-0516.pdf', 'INV-0517.pdf', 'INV-0518.pdf', 'INV-0519.pdf', 'INV-0520.pdf']\n"
     ]
    }
   ],
   "source": [
    "folder_path = r\"C:\\Users\\USER\\Desktop\\SQL and Excel Files\\Test-20250930T093447Z-1-001\\Test\\Invoices\"\n",
    "\n",
    "# Creating a list to store all pdf files\n",
    "pdf_files = [\n",
    "    f for f in os.listdir(folder_path) if f.endswith('.pdf')\n",
    "]\n",
    "print(\"PDF files found:\", pdf_files)"
   ]
  },
  {
   "cell_type": "code",
   "execution_count": 4,
   "id": "50936295-d060-40f1-85cb-33440c85aac5",
   "metadata": {},
   "outputs": [
    {
     "name": "stdout",
     "output_type": "stream",
     "text": [
      "Reading PDF: C:\\Users\\USER\\Desktop\\SQL and Excel Files\\Test-20250930T093447Z-1-001\\Test\\Invoices\\INV-0487.pdf\n"
     ]
    }
   ],
   "source": [
    "# Reading a Pdf File\n",
    "pdf_path = os.path.join(folder_path, pdf_files[0])\n",
    "print(\"Reading PDF:\", pdf_path)"
   ]
  },
  {
   "cell_type": "markdown",
   "id": "78980ebd-63f3-4189-a10c-48fd07e88369",
   "metadata": {},
   "source": [
    "## Extracting one pdf file"
   ]
  },
  {
   "cell_type": "code",
   "execution_count": 5,
   "id": "63c31234-92a9-4040-86a1-53a6926246ef",
   "metadata": {},
   "outputs": [
    {
     "name": "stdout",
     "output_type": "stream",
     "text": [
      "Orbit Creative Solutions Ltd.\n",
      "RC No: 402918\n",
      "12 Orbit Crescent, Suntech District, Lagos, Nigeria\n",
      "Email: accounts@orbitcreatives.ng\n",
      "Phone: +234 801 234 5678\n",
      "INVOICE\n",
      "Invoice Number: INV-0487\n",
      "Date of Issue: 25 Jul 2025\n",
      "Due Date: 08 Aug 2025\n",
      "Bill To:\n",
      "Velocity AutoTech Ltd.\n",
      "88 Redwood Lane, Central Bay\n",
      "Lekki Peninsula, Lagos, Nigeria\n",
      "Email: finance@velocityautotechltd.ng\n",
      "Description Qty Unit Price (NGN) Total (NGN)\n",
      "Digital Campaign Execution 1 3,278,034.00 3,278,034.00\n",
      "Content Production & Editing 1 1,092,678.00 1,092,678.00\n",
      "Micro-Influencer Activation 3 273,169.50 819,508.50\n",
      "Campaign Oversight & Reporting 1 273,169.50 273,169.50\n",
      "Subtotal: NGN 5,463,390.00\n",
      "VAT (0%): NGN 0.00\n",
      "TOTAL DUE: NGN 5,463,390.00\n",
      "Payment Instructions\n",
      "Bank: Unity National Bank\n",
      "Account Name: Orbit Creative Solutions Ltd.\n",
      "Account Number: 3019982221\n",
      "Branch Code: 045229\n",
      "Notes\n",
      "- Payment is due within 14 days of the invoice date.\n",
      "- Late payments are subject to a 2% monthly interest charge.\n",
      "- Please use the invoice number as p\n"
     ]
    }
   ],
   "source": [
    "# Displaying the pdf file\n",
    "with pdfplumber.open(pdf_path) as pdf:\n",
    "    text = \"\"\n",
    "    for page in pdf.pages:\n",
    "        text += page.extract_text()\n",
    "\n",
    "# Display first 1000 characters of the PDF\n",
    "print(text[:1000])"
   ]
  },
  {
   "cell_type": "code",
   "execution_count": 6,
   "id": "fa2f6aef-88e0-4319-9e76-3e8ccbef7dee",
   "metadata": {},
   "outputs": [],
   "source": [
    "# Testing for Extraction\n",
    "data = {\n",
    "    'Invoice ID': None,\n",
    "    'Client': None,\n",
    "    'Email': None,\n",
    "    'Start Date': None,\n",
    "    'End Date': None,\n",
    "    'Amount': None\n",
    "}"
   ]
  },
  {
   "cell_type": "code",
   "execution_count": 7,
   "id": "1ed08268-c9cf-44a4-8808-6fc3ea10d65f",
   "metadata": {},
   "outputs": [
    {
     "name": "stdout",
     "output_type": "stream",
     "text": [
      "{'Invoice ID': 'INV-0487', 'Client': 'Velocity AutoTech Ltd.', 'Email': 'accounts@orbitcreatives.ng', 'Start Date': '25 Jul 2025', 'End Date': '08 Aug 2025', 'Amount': '5,463,390.00'}\n"
     ]
    }
   ],
   "source": [
    "# Extract Invoice ID\n",
    "match = re.search(r\"Invoice Number:\\s*(\\S+)\", text)\n",
    "if match:\n",
    "    data['Invoice ID'] = match.group(1)\n",
    "\n",
    "# Extract Dates\n",
    "issue = re.search(r\"Date of Issue:\\s*([\\d]{1,2}\\s\\w+\\s\\d{4})\", text)\n",
    "due = re.search(r\"Due Date:\\s*([\\d]{1,2}\\s\\w+\\s\\d{4})\", text)\n",
    "if issue:\n",
    "    data['Start Date'] = issue.group(1)\n",
    "if due:\n",
    "    data['End Date'] = due.group(1)\n",
    "\n",
    "# Extract Client\n",
    "client = re.search(r\"Bill To:\\s*([\\w\\s&]+Ltd\\.)\", text)\n",
    "if client:\n",
    "    data['Client'] = client.group(1).strip()\n",
    "\n",
    "# Extract Client Email\n",
    "email = re.search(r\"Email:\\s*([\\w\\.-]+@[\\w\\.-]+)\", text)\n",
    "if email:\n",
    "    data['Email'] = email.group(1)\n",
    "\n",
    "# Extract Total Amount\n",
    "amount = re.search(r\"TOTAL DUE:\\s*NGN\\s*([\\d,]+\\.\\d{2})\", text)\n",
    "if amount:\n",
    "    data['Amount'] = amount.group(1)\n",
    "\n",
    "print(data)\n"
   ]
  },
  {
   "cell_type": "markdown",
   "id": "c79173ab-01c5-4d75-b71f-8686c0e8cccb",
   "metadata": {},
   "source": [
    "## Extracting all Files"
   ]
  },
  {
   "cell_type": "code",
   "execution_count": 8,
   "id": "dc02e123-46e9-49fd-a03b-23eb38cee5c0",
   "metadata": {},
   "outputs": [],
   "source": [
    "# Store extracted data\n",
    "records = []\n",
    "\n",
    "# Loop through all PDF files\n",
    "for file_name in os.listdir(folder_path):\n",
    "    if file_name.lower().endswith(\".pdf\"):\n",
    "        pdf_path = os.path.join(folder_path, file_name)\n",
    "\n",
    "        data = {\n",
    "            'Invoice ID': None,\n",
    "            'Client': None,\n",
    "            'Email': None,\n",
    "            'Start Date': None,\n",
    "            'End Date': None,\n",
    "            'Amount': None\n",
    "        }\n",
    "\n",
    "        with pdfplumber.open(pdf_path) as pdf:\n",
    "            text = \"\"\n",
    "            for page in pdf.pages:\n",
    "                page_text = page.extract_text()\n",
    "                if page_text:  # Sometimes extraction fails\n",
    "                    text += page_text + \"\\n\"\n",
    "\n",
    "        # Extract Invoice ID\n",
    "        match = re.search(r\"Invoice Number:\\s*(\\S+)\", text)\n",
    "        if match:\n",
    "            data['Invoice ID'] = match.group(1)\n",
    "\n",
    "        # Extract Dates\n",
    "        issue = re.search(r\"Date of Issue:\\s*([\\d]{1,2}\\s\\w+\\s\\d{4})\", text)\n",
    "        due = re.search(r\"Due Date:\\s*([\\d]{1,2}\\s\\w+\\s\\d{4})\", text)\n",
    "        if issue:\n",
    "            data['Start Date'] = issue.group(1)\n",
    "        if due:\n",
    "            data['End Date'] = due.group(1)\n",
    "\n",
    "        # Extract Client\n",
    "        client = re.search(r\"Bill To:\\s*([^\\n]+)\", text)\n",
    "        if client:\n",
    "            data['Client'] = client.group(1).strip()\n",
    "\n",
    "        # Extract Email (prefer last email → usually client’s)\n",
    "        emails = re.findall(r\"[\\w\\.-]+@[\\w\\.-]+\", text)\n",
    "        if emails:\n",
    "            data['Email'] = emails[-1]\n",
    "\n",
    "        # Extract Total Amount\n",
    "        amount = re.search(r\"TOTAL DUE:\\s*NGN\\s*([\\d,]+\\.\\d{2})\", text)\n",
    "        if amount:\n",
    "            data['Amount'] = amount.group(1)\n",
    "\n",
    "        # Save record\n",
    "        records.append(data)\n",
    "\n",
    "# Convert to DataFrame\n",
    "df = pd.DataFrame(records)"
   ]
  },
  {
   "cell_type": "code",
   "execution_count": 9,
   "id": "0a062590-fc4e-463e-89d5-b9b5fb6711b0",
   "metadata": {},
   "outputs": [
    {
     "data": {
      "text/html": [
       "<div>\n",
       "<style scoped>\n",
       "    .dataframe tbody tr th:only-of-type {\n",
       "        vertical-align: middle;\n",
       "    }\n",
       "\n",
       "    .dataframe tbody tr th {\n",
       "        vertical-align: top;\n",
       "    }\n",
       "\n",
       "    .dataframe thead th {\n",
       "        text-align: right;\n",
       "    }\n",
       "</style>\n",
       "<table border=\"1\" class=\"dataframe\">\n",
       "  <thead>\n",
       "    <tr style=\"text-align: right;\">\n",
       "      <th></th>\n",
       "      <th>Invoice ID</th>\n",
       "      <th>Client</th>\n",
       "      <th>Email</th>\n",
       "      <th>Start Date</th>\n",
       "      <th>End Date</th>\n",
       "      <th>Amount</th>\n",
       "    </tr>\n",
       "  </thead>\n",
       "  <tbody>\n",
       "    <tr>\n",
       "      <th>0</th>\n",
       "      <td>INV-0487</td>\n",
       "      <td>Velocity AutoTech Ltd.</td>\n",
       "      <td>finance@velocityautotechltd.ng</td>\n",
       "      <td>25 Jul 2025</td>\n",
       "      <td>08 Aug 2025</td>\n",
       "      <td>5,463,390.00</td>\n",
       "    </tr>\n",
       "    <tr>\n",
       "      <th>1</th>\n",
       "      <td>INV-0488</td>\n",
       "      <td>RapidTrak Logistics</td>\n",
       "      <td>finance@rapidtraklogistics.ng</td>\n",
       "      <td>26 Jul 2025</td>\n",
       "      <td>09 Aug 2025</td>\n",
       "      <td>9,252,030.00</td>\n",
       "    </tr>\n",
       "    <tr>\n",
       "      <th>2</th>\n",
       "      <td>INV-0489</td>\n",
       "      <td>NovaDrive Innovations</td>\n",
       "      <td>finance@novadriveinnovations.ng</td>\n",
       "      <td>02 Aug 2025</td>\n",
       "      <td>16 Aug 2025</td>\n",
       "      <td>9,267,670.00</td>\n",
       "    </tr>\n",
       "    <tr>\n",
       "      <th>3</th>\n",
       "      <td>INV-0490</td>\n",
       "      <td>RapidTrak Logistics</td>\n",
       "      <td>finance@rapidtraklogistics.ng</td>\n",
       "      <td>02 Aug 2025</td>\n",
       "      <td>16 Aug 2025</td>\n",
       "      <td>6,328,045.00</td>\n",
       "    </tr>\n",
       "    <tr>\n",
       "      <th>4</th>\n",
       "      <td>INV-0491</td>\n",
       "      <td>HexaConnect Services</td>\n",
       "      <td>finance@hexaconnectservices.ng</td>\n",
       "      <td>29 Jul 2025</td>\n",
       "      <td>12 Aug 2025</td>\n",
       "      <td>8,384,366.00</td>\n",
       "    </tr>\n",
       "  </tbody>\n",
       "</table>\n",
       "</div>"
      ],
      "text/plain": [
       "  Invoice ID                  Client                            Email  \\\n",
       "0   INV-0487  Velocity AutoTech Ltd.   finance@velocityautotechltd.ng   \n",
       "1   INV-0488     RapidTrak Logistics    finance@rapidtraklogistics.ng   \n",
       "2   INV-0489   NovaDrive Innovations  finance@novadriveinnovations.ng   \n",
       "3   INV-0490     RapidTrak Logistics    finance@rapidtraklogistics.ng   \n",
       "4   INV-0491    HexaConnect Services   finance@hexaconnectservices.ng   \n",
       "\n",
       "    Start Date     End Date        Amount  \n",
       "0  25 Jul 2025  08 Aug 2025  5,463,390.00  \n",
       "1  26 Jul 2025  09 Aug 2025  9,252,030.00  \n",
       "2  02 Aug 2025  16 Aug 2025  9,267,670.00  \n",
       "3  02 Aug 2025  16 Aug 2025  6,328,045.00  \n",
       "4  29 Jul 2025  12 Aug 2025  8,384,366.00  "
      ]
     },
     "execution_count": 9,
     "metadata": {},
     "output_type": "execute_result"
    }
   ],
   "source": [
    "df.head()"
   ]
  },
  {
   "cell_type": "code",
   "execution_count": 12,
   "id": "39bc2594-f699-487c-83c9-e1f2540c01b4",
   "metadata": {},
   "outputs": [
    {
     "data": {
      "text/plain": [
       "Invoice ID    0\n",
       "Client        0\n",
       "Email         0\n",
       "Start Date    0\n",
       "End Date      0\n",
       "Amount        0\n",
       "dtype: int64"
      ]
     },
     "execution_count": 12,
     "metadata": {},
     "output_type": "execute_result"
    }
   ],
   "source": [
    "df.isnull().sum()"
   ]
  },
  {
   "cell_type": "markdown",
   "id": "59c2930c-408a-4bee-b29b-9cf635fcc690",
   "metadata": {},
   "source": [
    "## Saving my csv file"
   ]
  },
  {
   "cell_type": "code",
   "execution_count": 13,
   "id": "59fc1fa7-edba-4c9d-b59c-4ab4ff54f95c",
   "metadata": {},
   "outputs": [],
   "source": [
    "df.to_csv(\"invoices_extracted.csv\", index=False)"
   ]
  }
 ],
 "metadata": {
  "kernelspec": {
   "display_name": "Python [conda env:base] *",
   "language": "python",
   "name": "conda-base-py"
  },
  "language_info": {
   "codemirror_mode": {
    "name": "ipython",
    "version": 3
   },
   "file_extension": ".py",
   "mimetype": "text/x-python",
   "name": "python",
   "nbconvert_exporter": "python",
   "pygments_lexer": "ipython3",
   "version": "3.13.5"
  }
 },
 "nbformat": 4,
 "nbformat_minor": 5
}
